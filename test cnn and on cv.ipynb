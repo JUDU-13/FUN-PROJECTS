{
 "cells": [
  {
   "cell_type": "code",
   "execution_count": null,
   "metadata": {},
   "outputs": [],
   "source": [
    "import cv2\n",
    "import numpy as np\n",
    "import tensorflow as tf\n",
    "\n",
    "# Load cascaded CNN classifiers for eye detection\n",
    "eye_net1 = cv2.dnn.readNetFromTensorflow('models/eye_net1.pb')\n",
    "eye_net2 = cv2.dnn.readNetFromTensorflow('models/eye_net2.pb')\n",
    "\n",
    "# Initialize video capture object\n",
    "cap = cv2.VideoCapture(0)\n",
    "\n",
    "while True:\n",
    "    # Capture frame from camera\n",
    "    ret, frame = cap.read()\n",
    "\n",
    "    # Convert frame to grayscale\n",
    "    gray = cv2.cvtColor(frame, cv2.COLOR_BGR2GRAY)\n",
    "\n",
    "    # Define regions of interest for left and right eyes\n",
    "    left_eye_roi = gray[110:180, 150:220]\n",
    "    right_eye_roi = gray[110:180, 260:330]\n",
    "\n",
    "    # Preprocess eye ROIs\n",
    "    left_eye_roi = cv2.resize(left_eye_roi, (24, 24))\n",
    "    right_eye_roi = cv2.resize(right_eye_roi, (24, 24))\n",
    "    left_eye_roi = cv2.equalizeHist(left_eye_roi)\n",
    "    right_eye_roi = cv2.equalizeHist(right_eye_roi)\n",
    "    left_eye_roi = left_eye_roi.astype('float32') / 255.0\n",
    "    right_eye_roi = right_eye_roi.astype('float32') / 255.0\n",
    "    left_eye_roi = np.expand_dims(left_eye_roi, axis=2)\n",
    "    right_eye_roi = np.expand_dims(right_eye_roi, axis=2)\n",
    "\n",
    "    # Predict eye states using cascaded CNNs\n",
    "    left_eye_state = 'open'\n",
    "    right_eye_state = 'open'\n",
    "    for net in [eye_net1, eye_net2]:\n",
    "        left_eye_pred = net.forward(left_eye_roi[np.newaxis, ...])\n",
    "        right_eye_pred = net.forward(right_eye_roi[np.newaxis, ...])\n",
    "        left_eye_state = 'closed' if np.argmax(left_eye_pred) == 0 else 'open'\n",
    "        right_eye_state = 'closed' if np.argmax(right_eye_pred) == 0 else 'open'\n",
    "\n",
    "    # Draw eye state on the frame\n",
    "    cv2.putText(frame, left_eye_state, (150, 100), cv2.FONT_HERSHEY_SIMPLEX, 0.7, (0, 255, 0), 2)\n",
    "    cv2.putText(frame, right_eye_state, (260, 100), cv2.FONT_HERSHEY_SIMPLEX, 0.7, (0, 255, 0), 2)\n",
    "\n",
    "    # Display the frame\n",
    "    cv2.imshow('Eye Detector', frame)\n",
    "\n",
    "    # Exit if 'q' is pressed\n",
    "    if cv2.waitKey(1) & 0xFF == ord('q'):\n",
    "        break\n",
    "\n",
    "# Release the video capture object and destroy all windows\n",
    "cap.release()\n",
    "cv2.destroyAllWindows()\n"
   ]
  }
 ],
 "metadata": {
  "kernelspec": {
   "display_name": "Python 3",
   "language": "python",
   "name": "python3"
  },
  "language_info": {
   "codemirror_mode": {
    "name": "ipython",
    "version": 3
   },
   "file_extension": ".py",
   "mimetype": "text/x-python",
   "name": "python",
   "nbconvert_exporter": "python",
   "pygments_lexer": "ipython3",
   "version": "3.10.0"
  },
  "orig_nbformat": 4,
  "vscode": {
   "interpreter": {
    "hash": "38ee9951ba56c9c9fe4685af4237f1eee8f6ab253bef24e2be2405bc7ad711a6"
   }
  }
 },
 "nbformat": 4,
 "nbformat_minor": 2
}
