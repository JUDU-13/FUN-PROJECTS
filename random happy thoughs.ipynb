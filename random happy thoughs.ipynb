{
 "cells": [
  {
   "cell_type": "code",
   "execution_count": null,
   "metadata": {},
   "outputs": [],
   "source": [
    "import openai\n",
    "import tkinter as tk\n",
    "\n",
    "# Set up the OpenAI API credentials\n",
    "openai.api_key = \"YOUR_API_KEY_HERE\"\n",
    "\n",
    "# Function to generate a random happy thought using the OpenAI API\n",
    "def get_happy_thought():\n",
    "    response = openai.Completion.create(\n",
    "        engine=\"davinci\",\n",
    "        prompt=\"Generate a random happy thought.\",\n",
    "        max_tokens=30,\n",
    "        n=1,\n",
    "        stop=None,\n",
    "        temperature=0.7,\n",
    "    )\n",
    "    return response.choices[0].text.strip()\n",
    "\n",
    "# Function to update the happy thought label\n",
    "def update_happy_thought():\n",
    "    happy_thought_label.config(text=get_happy_thought())\n",
    "\n",
    "# Create the main window and widgets\n",
    "root = tk.Tk()\n",
    "root.title(\"Random Happy Thoughts\")\n",
    "happy_thought_label = tk.Label(root, text=get_happy_thought(), font=(\"Arial\", 20))\n",
    "happy_thought_button = tk.Button(root, text=\"New Happy Thought\", command=update_happy_thought)\n",
    "\n",
    "# Pack the widgets into the window\n",
    "happy_thought_label.pack(pady=20)\n",
    "happy_thought_button.pack(pady=10)\n",
    "\n",
    "# Start the event loop\n",
    "root.mainloop()\n"
   ]
  },
  {
   "cell_type": "code",
   "execution_count": null,
   "metadata": {},
   "outputs": [],
   "source": []
  }
 ],
 "metadata": {
  "kernelspec": {
   "display_name": "Python 3",
   "language": "python",
   "name": "python3"
  },
  "language_info": {
   "codemirror_mode": {
    "name": "ipython",
    "version": 3
   },
   "file_extension": ".py",
   "mimetype": "text/x-python",
   "name": "python",
   "nbconvert_exporter": "python",
   "pygments_lexer": "ipython3",
   "version": "3.10.0"
  },
  "orig_nbformat": 4
 },
 "nbformat": 4,
 "nbformat_minor": 2
}
